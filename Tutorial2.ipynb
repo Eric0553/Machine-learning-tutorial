{
 "cells": [
  {
   "cell_type": "markdown",
   "metadata": {},
   "source": [
    "# Machine learning the mechanical properites of bulk materials"
   ]
  },
  {
   "cell_type": "markdown",
   "metadata": {},
   "source": [
    "<font color=#000000 size=3 face=\"黑体\"> Author: Xu Lei  <p>   </p>  Email: xulei0553@gmail.com</font>"
   ]
  },
  {
   "cell_type": "markdown",
   "metadata": {},
   "source": [
    "#  Prerequisites"
   ]
  },
  {
   "cell_type": "markdown",
   "metadata": {},
   "source": [
    "## The following packages should be installed in advance:\n",
    "## 1. scikit-learn, 2. pymatgen"
   ]
  },
  {
   "cell_type": "markdown",
   "metadata": {},
   "source": [
    "# 0. Propose"
   ]
  },
  {
   "cell_type": "markdown",
   "metadata": {},
   "source": [
    "## There are two main things you will learn in this tutorial. The first one is to know how to query data from material project database. Another one is to use the data retrieved from database to do some machine learning study."
   ]
  },
  {
   "cell_type": "markdown",
   "metadata": {},
   "source": [
    "# 1. Data retrieval"
   ]
  },
  {
   "cell_type": "markdown",
   "metadata": {},
   "source": [
    "## The most impost task in this part is to learn how to retrive specified data from \"Material Project\" database. In the following, we show how to query material's elasticity property from the database."
   ]
  },
  {
   "cell_type": "markdown",
   "metadata": {},
   "source": [
    "### First, go to https://materialsproject.org and register an account with your email. Then, login to https://www.materialsproject.org/dashboard to get your own API key."
   ]
  },
  {
   "cell_type": "markdown",
   "metadata": {},
   "source": [
    "### Import relevant packages and show the supported properties for query"
   ]
  },
  {
   "cell_type": "code",
   "execution_count": 1,
   "metadata": {},
   "outputs": [
    {
     "name": "stdout",
     "output_type": "stream",
     "text": [
      "('energy', 'energy_per_atom', 'volume', 'formation_energy_per_atom', 'nsites', 'unit_cell_formula', 'pretty_formula', 'is_hubbard', 'elements', 'nelements', 'e_above_hull', 'hubbards', 'is_compatible', 'spacegroup', 'task_ids', 'band_gap', 'density', 'icsd_id', 'icsd_ids', 'cif', 'total_magnetization', 'material_id', 'oxide_type', 'tags', 'elasticity')\n"
     ]
    }
   ],
   "source": [
    "from pymatgen import Structure\n",
    "from pymatgen.ext.matproj import MPRester\n",
    "from pymatgen.core.structure import Structure\n",
    "\n",
    "\n",
    "#list the features which can retrieve from material project database\n",
    "with MPRester() as mpr:\n",
    "    print(mpr.supported_properties)"
   ]
  },
  {
   "cell_type": "markdown",
   "metadata": {},
   "source": [
    "### Connect to the database with API key, and then retrieve specified features from the database for all materials (!!!!!Noted that you need to use your own API key when initialize the MPRester(  )). Please refer to https://github.com/materialsproject/mapidoc/blob/master/example_notebooks/Using%20the%20Materials%20API%20with%20Python.ipynb for more details about query "
   ]
  },
  {
   "cell_type": "code",
   "execution_count": 2,
   "metadata": {
    "collapsed": true
   },
   "outputs": [],
   "source": [
    "#Replace the string in the bracket with your own API key\n",
    "mpr = MPRester('place your own API key here')\n",
    "#Request \"material_id\", \"elasticity\" and \"cif\" information for all materials in the database\n",
    "st=mpr.query(criteria={},properties=[\"material_id\",\"elasticity\",\"cif\"])"
   ]
  },
  {
   "cell_type": "markdown",
   "metadata": {},
   "source": [
    "### There are 120612 materials in the material project database, but only 13619 of them have elasticity properties. Below is an example to show what kinds of elasticity properties included in the database. (Please refer to https://wiki.materialsproject.org/Elasticity_calculations for more details about these calculated properties)"
   ]
  },
  {
   "cell_type": "code",
   "execution_count": 3,
   "metadata": {
    "collapsed": true
   },
   "outputs": [],
   "source": [
    "i=0\n",
    "for item in st:\n",
    "    if item[\"elasticity\"]:\n",
    "        print(item['elasticity'])\n",
    "        break        "
   ]
  },
  {
   "cell_type": "markdown",
   "metadata": {},
   "source": [
    "### Write all elasticity properties together with material_id and structure into a dataframe, and then save it to a csv file"
   ]
  },
  {
   "cell_type": "code",
   "execution_count": 4,
   "metadata": {
    "collapsed": true
   },
   "outputs": [],
   "source": [
    "import pandas as pd\n",
    "\n",
    "cols=[\"material_id\",\"structure\",\"G_Reuss\",\"G_VRH\",\"G_Voigt\",\"G_Voigt_Reuss_Hill\",\"K_Reuss\",\"K_VRH\",\"K_Voigt\",\"K_Voigt_Reuss_Hill\",\"elastic_anisotropy\",\"homogeneous_poisson\",\"poisson_ratio\",\"universal_anisotropy\"]\n",
    "df=pd.DataFrame(columns=cols)\n",
    "i=1\n",
    "for item in st:\n",
    "    if item[\"elasticity\"]:\n",
    "        df.loc[i,\"material_id\"]=item[\"material_id\"]\n",
    "        df.loc[i,\"structure\"]=Structure.from_str(item[\"cif\"],fmt=\"cif\")\n",
    "        df.loc[i,\"G_Reuss\"]=item[\"elasticity\"][\"G_Reuss\"]\n",
    "        df.loc[i,\"G_VRH\"]=item[\"elasticity\"][\"G_VRH\"]\n",
    "        df.loc[i,\"G_Voigt\"]=item[\"elasticity\"][\"G_Voigt\"]\n",
    "        df.loc[i,\"G_Voigt_Reuss_Hill\"]=item[\"elasticity\"][\"G_Voigt_Reuss_Hill\"]\n",
    "        df.loc[i,\"K_Reuss\"]=item[\"elasticity\"][\"K_Reuss\"]\n",
    "        df.loc[i,\"K_VRH\"]=item[\"elasticity\"][\"K_VRH\"]\n",
    "        df.loc[i,\"K_Voigt\"]=item[\"elasticity\"][\"K_Voigt\"]\n",
    "        df.loc[i,\"K_Voigt_Reuss_Hill\"]=item[\"elasticity\"][\"K_Voigt_Reuss_Hill\"]\n",
    "        df.loc[i,\"elastic_anisotropy\"]=item[\"elasticity\"][\"elastic_anisotropy\"]\n",
    "        df.loc[i,\"homogeneous_poisson\"]=item[\"elasticity\"][\"homogeneous_poisson\"]\n",
    "        df.loc[i,\"poisson_ratio\"]=item[\"elasticity\"][\"poisson_ratio\"]\n",
    "        df.loc[i,\"universal_anisotropy\"]=item[\"elasticity\"][\"universal_anisotropy\"]\n",
    "        i+=1\n",
    "\n",
    "df.to_csv(\"material_project_elasticity.csv\",index=False)"
   ]
  },
  {
   "cell_type": "markdown",
   "metadata": {},
   "source": [
    "# 2. Data visualization"
   ]
  },
  {
   "cell_type": "markdown",
   "metadata": {},
   "source": [
    "## In this tutorial, G_VRH, which is Shear modulus, is selected as an example to show how to use machine learning to predict elasticity property. Below is the distribution of G_VRH data."
   ]
  },
  {
   "cell_type": "code",
   "execution_count": 5,
   "metadata": {},
   "outputs": [
    {
     "data": {
      "image/png": "[encoded data removed]",
      "text/plain": [
       "<matplotlib.figure.Figure at 0x1b3e8e36400>"
      ]
     },
     "metadata": {},
     "output_type": "display_data"
    }
   ],
   "source": [
    "import pandas as pd\n",
    "import numpy as np\n",
    "import matplotlib.pyplot as plt\n",
    "\n",
    "df=pd.read_csv(\"material_project_elasticity.csv\")\n",
    "G_VRH_data=df[\"G_VRH\"].values\n",
    "\n",
    "y0=np.zeros((len(G_VRH_data),))\n",
    "plt.figure(figsize=(8,4))\n",
    "plt.scatter(G_VRH_data,y0,s=50)\n",
    "plt.xticks(fontsize=15)\n",
    "plt.yticks([-1,0,1],fontsize=15)\n",
    "plt.show()"
   ]
  },
  {
   "cell_type": "markdown",
   "metadata": {},
   "source": [
    "# 3. Feature extraction"
   ]
  },
  {
   "cell_type": "markdown",
   "metadata": {},
   "source": [
    "## For each 2D material, use Matminer package to exctact 271 VT based features (refer to \"Phys. Rev. B 96, 024104\" for more details), and store the features into a dataframe named feature_data. At last, save the feature data in a csv file."
   ]
  },
  {
   "cell_type": "code",
   "execution_count": 6,
   "metadata": {
    "collapsed": true
   },
   "outputs": [],
   "source": [
    "from matminer.featurizers.base import MultipleFeaturizer\n",
    "from matminer.featurizers.structure import (SiteStatsFingerprint, StructuralHeterogeneity, ChemicalOrdering, StructureComposition, MaximumPackingEfficiency)\n",
    "from matminer.featurizers.composition import ElementProperty, Stoichiometry, ValenceOrbital, IonProperty\n",
    "from matminer.featurizers.site import CoordinationNumber,LocalPropertyDifference\n",
    "from matminer.utils.data import MagpieData\n",
    "\n",
    "element_properties=('Electronegativity','Row','Column','Number','MendeleevNumber','AtomicWeight','CovalentRadius','MeltingT',\n",
    "         'NsValence','NpValence','NdValence','NfValence','NValence','NsUnfilled','NpUnfilled','NdUnfilled','NfUnfilled',\n",
    "         'NUnfilled','GSvolume_pa','SpaceGroupNumber','GSbandgap','GSmagmom')\n",
    "\n",
    "#The following features will be created by using matminer package.\n",
    "featurizer = MultipleFeaturizer([\n",
    "    SiteStatsFingerprint(CoordinationNumber().from_preset('VoronoiNN'),stats=('mean','std_dev','minimum','maximum')),\n",
    "    StructuralHeterogeneity(),\n",
    "    ChemicalOrdering(),\n",
    "    MaximumPackingEfficiency(),\n",
    "    SiteStatsFingerprint(LocalPropertyDifference(properties=element_properties),stats=('mean','std_dev','minimum','maximum','range')),\n",
    "    StructureComposition(Stoichiometry()),\n",
    "    StructureComposition(ElementProperty.from_preset(\"magpie\")),\n",
    "    StructureComposition(ValenceOrbital(props=['frac'])),\n",
    "    StructureComposition(IonProperty(fast=True))    \n",
    "])\n",
    "\n",
    "#read data from csv file\n",
    "df=pd.read_csv(\"material_project_elasticity.csv\")\n",
    "#Generate VT based features from the material's crystal structure.\n",
    "feature_data=featurizer.featurize_dataframe(df,col_id=['structure'],ignore_errors=True)\n",
    "#\"structure\", \"compound possible\" and \"material_id\" are not resonable physical features, so we drop these three columns\n",
    "feature_data=feature_data.drop([\"structure\",\"compound possible\",\"material_id\"],axis=1)\n",
    "#write the data into a csv file for later use\n",
    "feature_data.to_csv(\"material_project_elasticity_data.csv\",index=False)"
   ]
  },
  {
   "cell_type": "markdown",
   "metadata": {},
   "source": [
    "# 4. Data clearning"
   ]
  },
  {
   "cell_type": "markdown",
   "metadata": {},
   "source": [
    "## There are many missing values in the features generated by VT method, and we use the mean value to fill these missing points. On the other hand, from the data distribution figure of G_VRH, we can find that most data fall on [-300,400] and only 57 points out of it. Thus, these 57 data are regarded as outliers and exclued in the following discussion."
   ]
  },
  {
   "cell_type": "code",
   "execution_count": 7,
   "metadata": {
    "collapsed": true
   },
   "outputs": [],
   "source": [
    "import pandas as pd\n",
    "import numpy as np\n",
    "\n",
    "#read data from csv file\n",
    "data_df=pd.read_csv(\"material_project_elasticity_data.csv\")\n",
    "#fill the NaN with the mean value of the corresponding column\n",
    "data_df=data_df.fillna(data_df.mean())\n",
    "#remain data with G_VRH value in [-2000,2000].\n",
    "data_df=data_df[data_df[\"G_VRH\"]<=400]\n",
    "data_df=data_df[data_df[\"G_VRH\"]>=-300]"
   ]
  },
  {
   "cell_type": "markdown",
   "metadata": {},
   "source": [
    "# 5. Machine learning model"
   ]
  },
  {
   "cell_type": "markdown",
   "metadata": {},
   "source": [
    "## In this tutorial, use Gradient Boosting algorithm as an example to show how to build and run a machine learning model."
   ]
  },
  {
   "cell_type": "markdown",
   "metadata": {},
   "source": [
    "### Import relevant packages"
   ]
  },
  {
   "cell_type": "code",
   "execution_count": 8,
   "metadata": {},
   "outputs": [
    {
     "name": "stderr",
     "output_type": "stream",
     "text": [
      "D:\\Anaconda3\\lib\\site-packages\\sklearn\\ensemble\\weight_boosting.py:29: DeprecationWarning: numpy.core.umath_tests is an internal NumPy module and should not be imported. It will be removed in a future NumPy release.\n",
      "  from numpy.core.umath_tests import inner1d\n"
     ]
    }
   ],
   "source": [
    "from sklearn.model_selection import KFold,cross_val_score\n",
    "from sklearn.model_selection import train_test_split,KFold,ShuffleSplit\n",
    "from sklearn.ensemble import RandomForestRegressor,GradientBoostingRegressor"
   ]
  },
  {
   "cell_type": "markdown",
   "metadata": {},
   "source": [
    "### Assign features and labels to x and y, respectively. Then, split the data into train and test set."
   ]
  },
  {
   "cell_type": "code",
   "execution_count": 9,
   "metadata": {
    "collapsed": true
   },
   "outputs": [],
   "source": [
    "y=data_df[\"G_VRH\"].values\n",
    "del_cols=[\"G_Reuss\",\"G_VRH\",\"poisson_ratio\",\"G_Voigt\",\"G_Voigt_Reuss_Hill\",\"K_Reuss\",\"K_VRH\",\"K_Voigt\",\"K_Voigt_Reuss_Hill\",\"elastic_anisotropy\",\"homogeneous_poisson\",\"poisson_ratio\",\"universal_anisotropy\"]\n",
    "X=data_df.drop(del_cols,axis=1).values\n",
    "#75% of data is used for training, the rest is for testing.\n",
    "X_train,X_test,y_train,y_test=train_test_split(X,y,test_size=0.25,random_state=1)"
   ]
  },
  {
   "cell_type": "markdown",
   "metadata": {},
   "source": [
    "### Build a Gradient Boosting regressor model, and tune some model parameters, such as n_estimators and max_depth, to achieve a high score, which corresponds to an optimized model. (Noted that the parameter in the below may not be the optimal one, you can change them by yourself)"
   ]
  },
  {
   "cell_type": "code",
   "execution_count": 10,
   "metadata": {},
   "outputs": [
    {
     "name": "stdout",
     "output_type": "stream",
     "text": [
      "scores:   16.287471086102144\n"
     ]
    }
   ],
   "source": [
    "lr=GradientBoostingRegressor(n_estimators=500,random_state=1,max_depth=5)\n",
    "#use 5-fold cross-validation approach to find the best model parameters\n",
    "cv=ShuffleSplit(n_splits=5,test_size=0.2,random_state=1)\n",
    "scores=cross_val_score(lr,X_train,y_train,cv=cv,scoring=\"neg_mean_absolute_error\")\n",
    "print(\"scores:  \",str(-np.mean(scores)))"
   ]
  },
  {
   "cell_type": "markdown",
   "metadata": {},
   "source": [
    "### Traning the optimized model with train data, and then do the prediction for the test set and calculate the mean absolute error"
   ]
  },
  {
   "cell_type": "code",
   "execution_count": 11,
   "metadata": {},
   "outputs": [
    {
     "name": "stdout",
     "output_type": "stream",
     "text": [
      "MAE:   15.31740782139745\n"
     ]
    }
   ],
   "source": [
    "lr.fit(X_train,y_train)\n",
    "y_pred=lr.predict(X_test)\n",
    "#calculate and print test error\n",
    "print(\"MAE:  \",np.mean(abs(y_pred-y_test)))"
   ]
  },
  {
   "cell_type": "markdown",
   "metadata": {},
   "source": [
    "# 6. Result analysis"
   ]
  },
  {
   "cell_type": "markdown",
   "metadata": {},
   "source": [
    "## Visualize the prediction result"
   ]
  },
  {
   "cell_type": "code",
   "execution_count": 12,
   "metadata": {},
   "outputs": [
    {
     "data": {
      "image/png": "[encoded data removed]",
      "text/plain": [
       "<matplotlib.figure.Figure at 0x1b3f1582908>"
      ]
     },
     "metadata": {},
     "output_type": "display_data"
    }
   ],
   "source": [
    "import matplotlib.pyplot as plt\n",
    "%matplotlib inline\n",
    "\n",
    "t=300\n",
    "x1=np.linspace(-t,t,100)\n",
    "plt.figure(figsize=(8,8))\n",
    "plt.scatter(y_test,y_pred, s=2)\n",
    "plt.xlim([-t,t])\n",
    "plt.ylim([-t,t])\n",
    "plt.xticks([-t,0,t],fontsize=20)\n",
    "plt.yticks([-t,0,t],fontsize=20)\n",
    "plt.xlabel(\"y_test_true\",fontsize=20)\n",
    "plt.ylabel(\"y_test_prediction\",fontsize=20)\n",
    "plt.gca().set_aspect('equal', adjustable='box')\n",
    "plt.plot(x1,x1,c='k',lw=3)\n",
    "plt.show()"
   ]
  },
  {
   "cell_type": "markdown",
   "metadata": {},
   "source": [
    "## Find the five most important features and plot the relative importance"
   ]
  },
  {
   "cell_type": "code",
   "execution_count": 13,
   "metadata": {},
   "outputs": [
    {
     "data": {
      "image/png": "[encoded data removed]",
      "text/plain": [
       "<matplotlib.figure.Figure at 0x1b3f1525358>"
      ]
     },
     "metadata": {},
     "output_type": "display_data"
    }
   ],
   "source": [
    "#Define a function to plot the relative feature importance\n",
    "def plot_feature_importances(feature_importances,title,feature_names):\n",
    "    feature_importances=100.0*(feature_importances/max(feature_importances))\n",
    "    index_sorted=np.flipud(np.argsort(feature_importances))[:5]\n",
    "    pos=np.arange(index_sorted.shape[0])+0.5\n",
    "\n",
    "\n",
    "    plt.figure(figsize=(15,15))\n",
    "    plt.bar(pos,feature_importances[index_sorted],align=\"center\")\n",
    "    plt.xticks(pos,feature_names[index_sorted],fontsize=10)\n",
    "    plt.yticks([0,20,40,60,80,100],fontsize=20)\n",
    "    plt.ylabel(\"Relative importance\",fontsize=20)\n",
    "    plt.title(title,fontsize=20)\n",
    "    plt.show()\n",
    "\n",
    "#Sort the feature importance in descending order and call plot_feature_importance function to plot them.\n",
    "features=data_df.drop(del_cols,axis=1).columns.values\n",
    "importances=lr.feature_importances_\n",
    "indices = np.argsort(importances)[::-1]\n",
    "plot_feature_importances(importances,\"Gradientboosting rgegression\",features)\n"
   ]
  },
  {
   "cell_type": "code",
   "execution_count": null,
   "metadata": {
    "collapsed": true
   },
   "outputs": [],
   "source": []
  }
 ],
 "metadata": {
  "kernelspec": {
   "display_name": "Python 3",
   "language": "python",
   "name": "python3"
  },
  "language_info": {
   "codemirror_mode": {
    "name": "ipython",
    "version": 3
   },
   "file_extension": ".py",
   "mimetype": "text/x-python",
   "name": "python",
   "nbconvert_exporter": "python",
   "pygments_lexer": "ipython3",
   "version": "3.6.3"
  }
 },
 "nbformat": 4,
 "nbformat_minor": 2
}
