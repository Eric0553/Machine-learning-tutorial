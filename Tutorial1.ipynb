{
 "cells": [
  {
   "cell_type": "markdown",
   "metadata": {},
   "source": [
    "# Machine learning the physical properties of 2D materials with VT method "
   ]
  },
  {
   "cell_type": "markdown",
   "metadata": {},
   "source": [
    "<font color=#000000 size=3 face=\"黑体\"> Author: Xu Lei  <p>   </p>  Email: xulei0553@gmail.com</font>"
   ]
  },
  {
   "cell_type": "markdown",
   "metadata": {},
   "source": [
    "# Prerequisites"
   ]
  },
  {
   "cell_type": "markdown",
   "metadata": {},
   "source": [
    "## The following packages should be installed in advance:\n",
    "## 1. scikit-learn, 2. pymatgen"
   ]
  },
  {
   "cell_type": "markdown",
   "metadata": {},
   "source": [
    "# 0. Purpose"
   ]
  },
  {
   "cell_type": "markdown",
   "metadata": {},
   "source": [
    "## This tutorial aims to help learn how to use machine learning to study the material's physical properties. Here, we use a regression machine learning model to predict the band gap of 2D materials, and \"2dmatpedia\" database is used for training the model."
   ]
  },
  {
   "cell_type": "markdown",
   "metadata": {},
   "source": [
    "# 1. Data retrieval \n",
    "## First, go to \"http://www.2dmatpedia.org/download\" and download the 2Dmatpedia database, and then place it in the current directory. Next, extract structure and band gap information for each material from the database, and store the information in a dataframe file."
   ]
  },
  {
   "cell_type": "code",
   "execution_count": 1,
   "metadata": {
    "collapsed": true
   },
   "outputs": [],
   "source": [
    "import numpy as np\n",
    "import pandas as pd\n",
    "import json\n",
    "from pymatgen.core.structure import Structure\n",
    "\n",
    "# Create an empty dataframe to record the \"material_id\", \"structure\" and \"band gap\" of each 2D material\n",
    "df=pd.DataFrame(columns=[\"material_id\",\"structure\",\"bandgap\"])\n",
    "i=0\n",
    "with open(\"db.json\",\"r+\") as f:\n",
    "    for line in f:\n",
    "        data=json.loads(line)        \n",
    "        #Select the 2D materials with band gap larger than 0, and then write the information into the dataframe.\n",
    "        if \"bandgap\" in data.keys() and data[\"bandgap\"]>0:\n",
    "            df.loc[i,\"material_id\"]=data[\"material_id\"]\n",
    "            df.loc[i,\"structure\"]=Structure.from_dict(data[\"structure\"])\n",
    "            df.loc[i,\"bandgap\"]=data[\"bandgap\"]\n",
    "            i+=1"
   ]
  },
  {
   "cell_type": "markdown",
   "metadata": {},
   "source": [
    "# 2. Data visualization"
   ]
  },
  {
   "cell_type": "markdown",
   "metadata": {},
   "source": [
    "## Visualize the distribution of band gap data"
   ]
  },
  {
   "cell_type": "markdown",
   "metadata": {},
   "source": [
    "### Histogram plot"
   ]
  },
  {
   "cell_type": "code",
   "execution_count": 2,
   "metadata": {},
   "outputs": [
    {
     "data": {
      "text/plain": [
       "<matplotlib.axes._subplots.AxesSubplot at 0x215f8a6e5c0>"
      ]
     },
     "execution_count": 2,
     "metadata": {},
     "output_type": "execute_result"
    }
   ],
   "source": [
    "df[\"bandgap\"].astype('float64').hist(bins=50)"
   ]
  },
  {
   "cell_type": "markdown",
   "metadata": {},
   "source": [
    "### Violin plot"
   ]
  },
  {
   "cell_type": "code",
   "execution_count": 3,
   "metadata": {
    "collapsed": true
   },
   "outputs": [],
   "source": [
    "import seaborn as sns\n",
    "sns.set(style=\"whitegrid\")\n",
    "ax = sns.violinplot(y=df[\"bandgap\"].astype('float64'))"
   ]
  },
  {
   "cell_type": "markdown",
   "metadata": {},
   "source": [
    "# 3. Feature extraction"
   ]
  },
  {
   "cell_type": "markdown",
   "metadata": {},
   "source": [
    "## For each 2D material, use Matminer package to exctact 271 VT based features (refer to \"Phys. Rev. B 96, 024104\" for more details), and store the features into a dataframe named feature_data. At last, save the feature data in a csv file."
   ]
  },
  {
   "cell_type": "code",
   "execution_count": 4,
   "metadata": {},
   "outputs": [
    {
     "data": {
      "application/vnd.jupyter.widget-view+json": {
       "model_id": "d73e229e60b9431b95bff1724387f373",
       "version_major": 2,
       "version_minor": 0
      },
      "text/plain": [
       "A Jupyter Widget"
      ]
     },
     "metadata": {},
     "output_type": "display_data"
    },
    {
     "name": "stderr",
     "output_type": "stream",
     "text": [
      "D:\\Anaconda3\\lib\\site-packages\\tqdm\\_monitor.py:89: TqdmSynchronisationWarning:\n",
      "\n",
      "Set changed size during iteration (see https://github.com/tqdm/tqdm/issues/481)\n",
      "\n"
     ]
    },
    {
     "name": "stdout",
     "output_type": "stream",
     "text": [
      "\n"
     ]
    }
   ],
   "source": [
    "from matminer.featurizers.base import MultipleFeaturizer\n",
    "from matminer.featurizers.structure import (SiteStatsFingerprint, StructuralHeterogeneity, ChemicalOrdering, StructureComposition, MaximumPackingEfficiency)\n",
    "from matminer.featurizers.composition import ElementProperty, Stoichiometry, ValenceOrbital, IonProperty\n",
    "from matminer.featurizers.site import CoordinationNumber,LocalPropertyDifference\n",
    "from matminer.utils.data import MagpieData\n",
    "\n",
    "element_properties=('Electronegativity','Row','Column','Number','MendeleevNumber','AtomicWeight','CovalentRadius','MeltingT',\n",
    "         'NsValence','NpValence','NdValence','NfValence','NValence','NsUnfilled','NpUnfilled','NdUnfilled','NfUnfilled',\n",
    "         'NUnfilled','GSvolume_pa','SpaceGroupNumber','GSbandgap','GSmagmom')\n",
    "\n",
    "#The following features will be created by using matminer package.\n",
    "featurizer = MultipleFeaturizer([\n",
    "    SiteStatsFingerprint(CoordinationNumber().from_preset('VoronoiNN'),stats=('mean','std_dev','minimum','maximum')),\n",
    "    StructuralHeterogeneity(),\n",
    "    ChemicalOrdering(),\n",
    "    MaximumPackingEfficiency(),\n",
    "    SiteStatsFingerprint(LocalPropertyDifference(properties=element_properties),stats=('mean','std_dev','minimum','maximum','range')),\n",
    "    StructureComposition(Stoichiometry()),\n",
    "    StructureComposition(ElementProperty.from_preset(\"magpie\")),\n",
    "    StructureComposition(ValenceOrbital(props=['frac'])),\n",
    "    StructureComposition(IonProperty(fast=True))    \n",
    "])\n",
    "\n",
    "#Generate VT based features from the material's crystal structure.\n",
    "feature_data=featurizer.featurize_dataframe(df,col_id=['structure'],ignore_errors=True)\n",
    "#\"structure\", \"compound possible\" and \"material_id\" are not resonable physical features, so we drop these three columns\n",
    "feature_data=feature_data.drop([\"structure\",\"compound possible\",\"material_id\"],axis=1)\n",
    "#write the data into a csv file for later use\n",
    "feature_data.to_csv(\"2dmatpedia_bandgap_data.csv\",index=False)"
   ]
  },
  {
   "cell_type": "markdown",
   "metadata": {},
   "source": [
    "# 4. Machine learning model"
   ]
  },
  {
   "cell_type": "markdown",
   "metadata": {},
   "source": [
    "## In this tutorial, use Gradient Boosting algorithm as an example to show how to build and run a machine learning model."
   ]
  },
  {
   "cell_type": "markdown",
   "metadata": {},
   "source": [
    "### Import relevant packages"
   ]
  },
  {
   "cell_type": "code",
   "execution_count": 5,
   "metadata": {},
   "outputs": [
    {
     "name": "stderr",
     "output_type": "stream",
     "text": [
      "D:\\Anaconda3\\lib\\site-packages\\sklearn\\ensemble\\weight_boosting.py:29: DeprecationWarning:\n",
      "\n",
      "numpy.core.umath_tests is an internal NumPy module and should not be imported. It will be removed in a future NumPy release.\n",
      "\n"
     ]
    }
   ],
   "source": [
    "from sklearn.model_selection import KFold,cross_val_score\n",
    "from sklearn.model_selection import train_test_split,KFold,ShuffleSplit\n",
    "from sklearn.ensemble import RandomForestRegressor,GradientBoostingRegressor"
   ]
  },
  {
   "cell_type": "markdown",
   "metadata": {},
   "source": [
    "### Read the data from csv file, and assign features and labels to x and y, respectively. Then, split the data into train and test set."
   ]
  },
  {
   "cell_type": "code",
   "execution_count": 6,
   "metadata": {
    "collapsed": true
   },
   "outputs": [],
   "source": [
    "data_df=pd.read_csv(\"2dmatpedia_bandgap_data.csv\")\n",
    "#fill the NaN with the mean value of the corresponding column\n",
    "data_df=data_df.fillna(data_df.mean())\n",
    "y=data_df[\"bandgap\"].values\n",
    "X=data_df.drop([\"bandgap\"],axis=1).values\n",
    "#75% of data is used for training, the rest is for testing.\n",
    "X_train,X_test,y_train,y_test=train_test_split(X,y,test_size=0.25,random_state=1)"
   ]
  },
  {
   "cell_type": "markdown",
   "metadata": {},
   "source": [
    "### Build a Gradient Boosting regressor model, and tune some model parameters, such as n_estimators and max_depth, to achieve a high score, which corresponds to an optimized model. (Noted that the parameter in the below may not be the optimal one, you can change them by yourself)"
   ]
  },
  {
   "cell_type": "code",
   "execution_count": 7,
   "metadata": {},
   "outputs": [
    {
     "name": "stdout",
     "output_type": "stream",
     "text": [
      "scores:   0.5812560914349142\n"
     ]
    }
   ],
   "source": [
    "lr=GradientBoostingRegressor(n_estimators=700,random_state=1,max_depth=5)\n",
    "#use 5-fold cross-validation approach to find the best model parameters\n",
    "cv=ShuffleSplit(n_splits=5,test_size=0.2,random_state=1)\n",
    "scores=cross_val_score(lr,X_train,y_train,cv=cv,scoring=\"neg_mean_absolute_error\")\n",
    "print(\"scores:  \",str(-np.mean(scores)))"
   ]
  },
  {
   "cell_type": "markdown",
   "metadata": {},
   "source": [
    "### Traning the optimized model with train data, and then do the prediction for the test set and calculate the mean absolute error"
   ]
  },
  {
   "cell_type": "code",
   "execution_count": 8,
   "metadata": {},
   "outputs": [
    {
     "name": "stdout",
     "output_type": "stream",
     "text": [
      "MAE:   0.5514669516003231\n"
     ]
    }
   ],
   "source": [
    "lr.fit(X_train,y_train)\n",
    "y_pred=lr.predict(X_test)\n",
    "#calculate and print test error\n",
    "print(\"MAE:  \",np.mean(abs(y_pred-y_test)))"
   ]
  },
  {
   "cell_type": "markdown",
   "metadata": {},
   "source": [
    "# 5. Result analysis"
   ]
  },
  {
   "cell_type": "markdown",
   "metadata": {},
   "source": [
    "## Visualize the prediction result"
   ]
  },
  {
   "cell_type": "code",
   "execution_count": 9,
   "metadata": {},
   "outputs": [
    {
     "data": {
      "image/png": "[encoded data removed]",
      "text/plain": [
       "<matplotlib.figure.Figure at 0x215f87fff28>"
      ]
     },
     "metadata": {},
     "output_type": "display_data"
    }
   ],
   "source": [
    "import matplotlib.pyplot as plt\n",
    "%matplotlib inline\n",
    "\n",
    "x1=np.linspace(0,9,100)\n",
    "plt.figure(figsize=(8,8))\n",
    "plt.scatter(y_test,y_pred)\n",
    "plt.xlim([0,9])\n",
    "plt.ylim([0,9])\n",
    "plt.xticks([0,3,6,9],fontsize=20)\n",
    "plt.yticks([0,3,6,9],fontsize=20)\n",
    "plt.xlabel(\"y_test_true\",fontsize=20)\n",
    "plt.ylabel(\"y_test_prediction\",fontsize=20)\n",
    "plt.gca().set_aspect('equal', adjustable='box')\n",
    "plt.plot(x1,x1,c='k',lw=3)\n",
    "plt.show()"
   ]
  },
  {
   "cell_type": "markdown",
   "metadata": {},
   "source": [
    "## Find the five most important features and plot the relative importance"
   ]
  },
  {
   "cell_type": "code",
   "execution_count": 10,
   "metadata": {},
   "outputs": [
    {
     "data": {
      "image/png": "[encoded data removed]",
      "text/plain": [
       "<matplotlib.figure.Figure at 0x215ff975748>"
      ]
     },
     "metadata": {},
     "output_type": "display_data"
    }
   ],
   "source": [
    "#Define a function to plot the relative feature importance\n",
    "def plot_feature_importances(feature_importances,title,feature_names):\n",
    "    feature_importances=100.0*(feature_importances/max(feature_importances))\n",
    "    index_sorted=np.flipud(np.argsort(feature_importances))[:5]\n",
    "    pos=np.arange(index_sorted.shape[0])+0.5\n",
    "\n",
    "\n",
    "    plt.figure(figsize=(12,12))\n",
    "    plt.bar(pos,feature_importances[index_sorted],align=\"center\")\n",
    "    plt.xticks(pos,feature_names[index_sorted],fontsize=10)\n",
    "    plt.yticks([0,20,40,60,80,100],fontsize=20)\n",
    "    plt.ylabel(\"Relative importance\",fontsize=20)\n",
    "    plt.title(title,fontsize=20)\n",
    "    plt.show()\n",
    "\n",
    "#Sort the feature importance in descending order and call plot_feature_importance function to plot them.\n",
    "features=data_df.drop([\"bandgap\"],axis=1).columns.values\n",
    "importances=lr.feature_importances_\n",
    "indices = np.argsort(importances)[::-1]\n",
    "plot_feature_importances(importances,\"Gradientboosting rgegression\",features)\n"
   ]
  },
  {
   "cell_type": "markdown",
   "metadata": {},
   "source": [
    "# 6. Assignment"
   ]
  },
  {
   "cell_type": "markdown",
   "metadata": {},
   "source": [
    "## Use other machine learning algorithms, such as random forest and support vector machine, to build a model and train with the data.\n",
    "## Except the band gap, try to learning other physical properties, such as formation energy, using the same database 2Dmatpedia\n",
    "## Outreach: Try to use matminer package to generate other features that could affect the band gap."
   ]
  },
  {
   "cell_type": "code",
   "execution_count": null,
   "metadata": {
    "collapsed": true
   },
   "outputs": [],
   "source": []
  }
 ],
 "metadata": {
  "kernelspec": {
   "display_name": "Python 3",
   "language": "python",
   "name": "python3"
  },
  "language_info": {
   "codemirror_mode": {
    "name": "ipython",
    "version": 3
   },
   "file_extension": ".py",
   "mimetype": "text/x-python",
   "name": "python",
   "nbconvert_exporter": "python",
   "pygments_lexer": "ipython3",
   "version": "3.6.3"
  }
 },
 "nbformat": 4,
 "nbformat_minor": 2
}
